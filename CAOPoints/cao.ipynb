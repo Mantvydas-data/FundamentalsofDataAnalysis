{
 "cells": [
  {
   "cell_type": "markdown",
   "id": "b645558f-000a-499a-a83a-f39b74bf58fd",
   "metadata": {},
   "source": [
    "### CAO Points Notebook"
   ]
  },
  {
   "cell_type": "markdown",
   "id": "d8771808-18ca-4cbd-9448-07bced2c33a2",
   "metadata": {},
   "source": [
    "Include a Jupyter notebook called cao.ipynb that contains the following."
   ]
  },
  {
   "cell_type": "markdown",
   "id": "4de54a91-aac9-45e2-97fd-2071369033c8",
   "metadata": {},
   "source": [
    "10% A clear and concise overview of how to load CAO points information from the\n",
    "CAO website into a pandas data frame, pitched as your classmates.\n",
    "***"
   ]
  },
  {
   "cell_type": "markdown",
   "id": "06e91826-543f-4ada-98df-6131be523a01",
   "metadata": {},
   "source": [
    "20% A detailed comparison of CAO points in 2019, 2020, and 2021 using the functionality in pandas.\n",
    "***"
   ]
  },
  {
   "cell_type": "markdown",
   "id": "49e23da2-fa9b-4a41-8bc1-09e8b5ae1c4a",
   "metadata": {},
   "source": [
    "10% Appropriate plots and other visualisations to enhance your notebook for viewers.\n",
    "***"
   ]
  },
  {
   "cell_type": "code",
   "execution_count": null,
   "id": "21778b0b-d2a4-40d9-8b74-dd68f4e3c698",
   "metadata": {},
   "outputs": [],
   "source": []
  },
  {
   "cell_type": "code",
   "execution_count": null,
   "id": "6ddd7287-b42d-46d2-b440-6a896f2657e3",
   "metadata": {},
   "outputs": [],
   "source": []
  },
  {
   "cell_type": "code",
   "execution_count": null,
   "id": "165f4446-390b-4925-bb08-ba537797759d",
   "metadata": {},
   "outputs": [],
   "source": []
  },
  {
   "cell_type": "code",
   "execution_count": null,
   "id": "0b420889-cccb-484a-ad1b-233cf70523c0",
   "metadata": {},
   "outputs": [],
   "source": []
  },
  {
   "cell_type": "code",
   "execution_count": null,
   "id": "d97b5a00-871f-4ed9-ab73-d644954c4638",
   "metadata": {},
   "outputs": [],
   "source": []
  },
  {
   "cell_type": "code",
   "execution_count": null,
   "id": "99e07de9-f39b-4897-ba2e-859ea72c64be",
   "metadata": {},
   "outputs": [],
   "source": []
  },
  {
   "cell_type": "code",
   "execution_count": null,
   "id": "154edef5-8e6b-4fa9-af56-c4cde5bc2f61",
   "metadata": {},
   "outputs": [],
   "source": []
  },
  {
   "cell_type": "code",
   "execution_count": null,
   "id": "bd66eb3a-9207-4998-9fe4-07df26081c17",
   "metadata": {},
   "outputs": [],
   "source": []
  },
  {
   "cell_type": "code",
   "execution_count": null,
   "id": "311bcd7b-1656-42eb-9a19-36fecc38025a",
   "metadata": {},
   "outputs": [],
   "source": []
  },
  {
   "cell_type": "code",
   "execution_count": null,
   "id": "1881c2f2-6a1a-462c-bc43-cd115919e66b",
   "metadata": {},
   "outputs": [],
   "source": []
  },
  {
   "cell_type": "code",
   "execution_count": null,
   "id": "481a3db3-ad70-4abe-916d-fe2858fb1fbc",
   "metadata": {},
   "outputs": [],
   "source": []
  },
  {
   "cell_type": "code",
   "execution_count": null,
   "id": "99c8d927-09ef-4be9-80b9-7c2d38594e9d",
   "metadata": {},
   "outputs": [],
   "source": []
  },
  {
   "cell_type": "markdown",
   "id": "174be286-7fea-4a07-b31b-d88fcfdc15c3",
   "metadata": {},
   "source": []
  },
  {
   "cell_type": "markdown",
   "id": "90f54b3d-a06a-4d91-a707-793ca2394ffe",
   "metadata": {},
   "source": [
    "### References"
   ]
  },
  {
   "cell_type": "code",
   "execution_count": null,
   "id": "cd63cf10-6682-4563-a660-8b74c78a0729",
   "metadata": {},
   "outputs": [],
   "source": []
  },
  {
   "cell_type": "code",
   "execution_count": null,
   "id": "06807511-c25e-452b-959e-ae5fc3a7a26c",
   "metadata": {},
   "outputs": [],
   "source": []
  },
  {
   "cell_type": "code",
   "execution_count": null,
   "id": "5a3bbc69-1df4-45b9-afaf-02b04fb247a1",
   "metadata": {},
   "outputs": [],
   "source": []
  }
 ],
 "metadata": {
  "kernelspec": {
   "display_name": "Python 3",
   "language": "python",
   "name": "python3"
  },
  "language_info": {
   "codemirror_mode": {
    "name": "ipython",
    "version": 3
   },
   "file_extension": ".py",
   "mimetype": "text/x-python",
   "name": "python",
   "nbconvert_exporter": "python",
   "pygments_lexer": "ipython3",
   "version": "3.8.8"
  }
 },
 "nbformat": 4,
 "nbformat_minor": 5
}
