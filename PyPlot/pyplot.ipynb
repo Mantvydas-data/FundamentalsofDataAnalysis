{
 "cells": [
  {
   "cell_type": "markdown",
   "id": "e86024e0-2671-4bd9-a2e3-d2ed73ff6c18",
   "metadata": {},
   "source": [
    "### This is Jupyter Notebook for matplotlib.pyplot overview\n",
    "<br>"
   ]
  },
  {
   "cell_type": "markdown",
   "id": "9ea60338-347d-4426-8faf-78feb6c5fe7e",
   "metadata": {},
   "source": [
    "A clear and concise overview of the matplotlib.pyplot Python package,\n",
    "pitched at your classmates. 15%"
   ]
  },
  {
   "cell_type": "markdown",
   "id": "383cd998-51cd-4f9d-821c-3155a1d20410",
   "metadata": {},
   "source": [
    "An in-depth explanation of three interesting plots from the matplotlib.pyplot Python package. You have free reign to choose the three plots yourself. 25%"
   ]
  },
  {
   "cell_type": "code",
   "execution_count": null,
   "id": "3f513d30-23da-4c56-8262-9cd6980529b4",
   "metadata": {},
   "outputs": [],
   "source": []
  },
  {
   "cell_type": "code",
   "execution_count": null,
   "id": "38e11001-935e-4bbe-bc80-cf8aaf346fc8",
   "metadata": {},
   "outputs": [],
   "source": []
  },
  {
   "cell_type": "code",
   "execution_count": null,
   "id": "a860f5b4-0932-4b68-9ff5-d1d889fd34d3",
   "metadata": {},
   "outputs": [],
   "source": []
  },
  {
   "cell_type": "code",
   "execution_count": null,
   "id": "c5b6b7c4-525f-42ef-9f30-5ebe597920b5",
   "metadata": {},
   "outputs": [],
   "source": []
  },
  {
   "cell_type": "code",
   "execution_count": null,
   "id": "9cb9a9b3-25ea-4689-bf7f-681fcc907489",
   "metadata": {},
   "outputs": [],
   "source": []
  },
  {
   "cell_type": "code",
   "execution_count": null,
   "id": "9f84e3b1-4c81-4015-997d-5d79d492d996",
   "metadata": {},
   "outputs": [],
   "source": []
  },
  {
   "cell_type": "code",
   "execution_count": null,
   "id": "0c3dec50-9c69-444a-b13d-ed9fdc6abcf3",
   "metadata": {},
   "outputs": [],
   "source": []
  },
  {
   "cell_type": "code",
   "execution_count": null,
   "id": "90570ea0-16fc-480b-a2f7-09cdce06da5a",
   "metadata": {},
   "outputs": [],
   "source": []
  },
  {
   "cell_type": "markdown",
   "id": "4666bd40-b849-4d48-a06c-cbcd162258ff",
   "metadata": {},
   "source": [
    "### References"
   ]
  },
  {
   "cell_type": "code",
   "execution_count": null,
   "id": "11634cc6-2a36-43da-b5c8-8ed8f3aebf3a",
   "metadata": {},
   "outputs": [],
   "source": []
  },
  {
   "cell_type": "code",
   "execution_count": null,
   "id": "dabc2a50-1516-4d5b-b3c7-794ca1a0635d",
   "metadata": {},
   "outputs": [],
   "source": []
  },
  {
   "cell_type": "code",
   "execution_count": null,
   "id": "11015a2f-be46-48f3-9383-cfbb380bafe4",
   "metadata": {},
   "outputs": [],
   "source": []
  },
  {
   "cell_type": "code",
   "execution_count": null,
   "id": "1f4f3c5b-249b-4682-8800-1117dd0f536f",
   "metadata": {},
   "outputs": [],
   "source": []
  },
  {
   "cell_type": "code",
   "execution_count": null,
   "id": "60def714-3d55-4e57-b487-da8935fc6265",
   "metadata": {},
   "outputs": [],
   "source": []
  }
 ],
 "metadata": {
  "kernelspec": {
   "display_name": "Python 3",
   "language": "python",
   "name": "python3"
  },
  "language_info": {
   "codemirror_mode": {
    "name": "ipython",
    "version": 3
   },
   "file_extension": ".py",
   "mimetype": "text/x-python",
   "name": "python",
   "nbconvert_exporter": "python",
   "pygments_lexer": "ipython3",
   "version": "3.8.8"
  }
 },
 "nbformat": 4,
 "nbformat_minor": 5
}
