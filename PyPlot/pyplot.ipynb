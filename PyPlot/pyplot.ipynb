{
 "cells": [
  {
   "cell_type": "markdown",
   "id": "e86024e0-2671-4bd9-a2e3-d2ed73ff6c18",
   "metadata": {},
   "source": [
    "## This is Jupyter Notebook for matplotlib.pyplot overview\n",
    "<br>"
   ]
  },
  {
   "cell_type": "markdown",
   "id": "9ea60338-347d-4426-8faf-78feb6c5fe7e",
   "metadata": {},
   "source": [
    "A clear and concise overview of the matplotlib.pyplot Python package,\n",
    "pitched at your classmates. 15%"
   ]
  },
  {
   "cell_type": "markdown",
   "id": "383cd998-51cd-4f9d-821c-3155a1d20410",
   "metadata": {},
   "source": [
    "An in-depth explanation of three interesting plots from the matplotlib.pyplot Python package. You have free reign to choose the three plots yourself. 25%"
   ]
  },
  {
   "cell_type": "markdown",
   "id": "44d4974e-4335-4dfc-b4ce-7260490561d5",
   "metadata": {},
   "source": [
    "<img src=https://matplotlib.org/2.0.2/mpl_examples/showcase/anatomy.png width=\"500\">\n",
    "\n",
    "[Source: Matplotlib examples](https://matplotlib.org/2.0.2/examples/showcase/anatomy.html)"
   ]
  },
  {
   "cell_type": "markdown",
   "id": "b81877e5-50c1-49a7-a3de-1d81792918b1",
   "metadata": {},
   "source": []
  },
  {
   "cell_type": "code",
   "execution_count": null,
   "id": "a860f5b4-0932-4b68-9ff5-d1d889fd34d3",
   "metadata": {},
   "outputs": [],
   "source": []
  },
  {
   "cell_type": "code",
   "execution_count": null,
   "id": "c5b6b7c4-525f-42ef-9f30-5ebe597920b5",
   "metadata": {},
   "outputs": [],
   "source": []
  },
  {
   "cell_type": "markdown",
   "id": "14c7a5c2-2967-428c-8082-9e48ad6e89fd",
   "metadata": {},
   "source": [
    "## Three interesting plots:\n",
    "---"
   ]
  },
  {
   "cell_type": "markdown",
   "id": "feb21c99-4f59-4fd1-a99e-b67473db941f",
   "metadata": {},
   "source": [
    "### Line plot"
   ]
  },
  {
   "cell_type": "code",
   "execution_count": null,
   "id": "0c3dec50-9c69-444a-b13d-ed9fdc6abcf3",
   "metadata": {},
   "outputs": [],
   "source": []
  },
  {
   "cell_type": "markdown",
   "id": "4bcf5f9e-4838-4eda-b09a-cc7d35e7adff",
   "metadata": {},
   "source": [
    "### Time series "
   ]
  },
  {
   "cell_type": "code",
   "execution_count": null,
   "id": "589ff25e-cca0-49a2-a590-ff9232683e7e",
   "metadata": {},
   "outputs": [],
   "source": [
    "# In-built dataset to bue used for time series examples SNS flights"
   ]
  },
  {
   "cell_type": "markdown",
   "id": "1d5ea1f2-2404-44b6-a1a6-c2f2fd31da8e",
   "metadata": {},
   "source": [
    "### Pie chart"
   ]
  },
  {
   "cell_type": "code",
   "execution_count": null,
   "id": "ef4371c7-6f5b-49df-996c-96fdac0440bd",
   "metadata": {},
   "outputs": [],
   "source": []
  },
  {
   "cell_type": "markdown",
   "id": "4666bd40-b849-4d48-a06c-cbcd162258ff",
   "metadata": {},
   "source": [
    "### References"
   ]
  },
  {
   "cell_type": "markdown",
   "id": "420cdb40-2fb6-417c-8744-5e2f18d444cf",
   "metadata": {},
   "source": [
    "https://realpython.com/python-histograms/"
   ]
  },
  {
   "cell_type": "markdown",
   "id": "1218f5bc-dd35-4f4a-95e3-a24f105c73fe",
   "metadata": {},
   "source": [
    "https://realpython.com/pandas-plot-python/"
   ]
  },
  {
   "cell_type": "markdown",
   "id": "55786e1d-14db-484c-9f56-a7dd944f1442",
   "metadata": {},
   "source": [
    "https://realpython.com/python-matplotlib-guide/"
   ]
  },
  {
   "cell_type": "code",
   "execution_count": null,
   "id": "60def714-3d55-4e57-b487-da8935fc6265",
   "metadata": {},
   "outputs": [],
   "source": []
  }
 ],
 "metadata": {
  "kernelspec": {
   "display_name": "Python 3",
   "language": "python",
   "name": "python3"
  },
  "language_info": {
   "codemirror_mode": {
    "name": "ipython",
    "version": 3
   },
   "file_extension": ".py",
   "mimetype": "text/x-python",
   "name": "python",
   "nbconvert_exporter": "python",
   "pygments_lexer": "ipython3",
   "version": "3.8.8"
  }
 },
 "nbformat": 4,
 "nbformat_minor": 5
}
