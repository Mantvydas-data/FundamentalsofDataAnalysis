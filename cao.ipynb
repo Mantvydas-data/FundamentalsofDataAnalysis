{
 "cells": [
  {
   "cell_type": "markdown",
   "id": "b645558f-000a-499a-a83a-f39b74bf58fd",
   "metadata": {},
   "source": [
    "### CAO Points Notebook"
   ]
  },
  {
   "cell_type": "markdown",
   "id": "d8771808-18ca-4cbd-9448-07bced2c33a2",
   "metadata": {},
   "source": [
    "Include a Jupyter notebook called cao.ipynb that contains the following."
   ]
  },
  {
   "cell_type": "markdown",
   "id": "4de54a91-aac9-45e2-97fd-2071369033c8",
   "metadata": {},
   "source": [
    "10% A clear and concise overview of how to load CAO points information from the\n",
    "CAO website into a pandas data frame, pitched as your classmates.\n",
    "***"
   ]
  },
  {
   "cell_type": "markdown",
   "id": "06e91826-543f-4ada-98df-6131be523a01",
   "metadata": {},
   "source": [
    "20% A detailed comparison of CAO points in 2019, 2020, and 2021 using the functionality in pandas.\n",
    "***"
   ]
  },
  {
   "cell_type": "markdown",
   "id": "49e23da2-fa9b-4a41-8bc1-09e8b5ae1c4a",
   "metadata": {},
   "source": [
    "10% Appropriate plots and other visualisations to enhance your notebook for viewers.\n",
    "***"
   ]
  },
  {
   "cell_type": "code",
   "execution_count": 1,
   "id": "21778b0b-d2a4-40d9-8b74-dd68f4e3c698",
   "metadata": {},
   "outputs": [],
   "source": [
    "# Importing required packages:\n",
    "# HTTP Requests\n",
    "import requests as rq\n",
    "\n",
    "# Regular Expressions\n",
    "import re\n",
    "\n",
    "# Dates and times\n",
    "import datetime as dt\n",
    "\n",
    "# Data frames\n",
    "import pandas as pd\n",
    "\n",
    "# For Url downloads\n",
    "import urllib.request as urlrq"
   ]
  },
  {
   "cell_type": "markdown",
   "id": "85db2adc-a3d1-4695-a648-85485965c4fb",
   "metadata": {},
   "source": [
    "CAO Points for 2021 <br>\n",
    "http://www.cao.ie/index.php?page=points&p=2021\n",
    "***"
   ]
  },
  {
   "cell_type": "code",
   "execution_count": 2,
   "id": "165f4446-390b-4925-bb08-ba537797759d",
   "metadata": {},
   "outputs": [
    {
     "data": {
      "text/plain": [
       "<Response [200]>"
      ]
     },
     "execution_count": 2,
     "metadata": {},
     "output_type": "execute_result"
    }
   ],
   "source": [
    "# Getting data form CAO website\n",
    "resp = rq.get(\"http://www2.cao.ie/points/l8.php\")\n",
    "\n",
    "# Confirming it is ok\n",
    "\n",
    "resp"
   ]
  },
  {
   "cell_type": "markdown",
   "id": "f5294cf2-d6bc-41bd-9eba-e7c9460bde57",
   "metadata": {},
   "source": [
    "### Saving original dataset"
   ]
  },
  {
   "cell_type": "code",
   "execution_count": 6,
   "id": "d97b5a00-871f-4ed9-ab73-d644954c4638",
   "metadata": {},
   "outputs": [],
   "source": [
    "# Getting current date and time\n",
    "now = dt.datetime.now()\n",
    "\n",
    "# Format as a string\n",
    "nowstr = now.strftime(\"%Y%m%d_%H%M%S\")"
   ]
  },
  {
   "cell_type": "code",
   "execution_count": 7,
   "id": "99e07de9-f39b-4897-ba2e-859ea72c64be",
   "metadata": {},
   "outputs": [],
   "source": [
    "# Creating a file path\n",
    "path = 'data/cao2021_' + nowstr + '.html'"
   ]
  },
  {
   "cell_type": "markdown",
   "id": "eebea09e-c58b-46e6-a0e0-3297b0a0b72a",
   "metadata": {},
   "source": [
    "### Using decoding cp1252 that includes fada\n",
    "***"
   ]
  },
  {
   "cell_type": "code",
   "execution_count": 10,
   "id": "bd66eb3a-9207-4998-9fe4-07df26081c17",
   "metadata": {},
   "outputs": [],
   "source": [
    "# Checking original server encoding\n",
    "original_encoding = resp.encoding\n",
    "\n",
    "resp.encoding = 'cp1252'"
   ]
  },
  {
   "cell_type": "code",
   "execution_count": 14,
   "id": "311bcd7b-1656-42eb-9a19-36fecc38025a",
   "metadata": {},
   "outputs": [],
   "source": [
    "# Save original html file\n",
    "with open(path, 'w') as f:\n",
    "    f.write(resp.text)"
   ]
  },
  {
   "cell_type": "code",
   "execution_count": null,
   "id": "1881c2f2-6a1a-462c-bc43-cd115919e66b",
   "metadata": {},
   "outputs": [],
   "source": []
  },
  {
   "cell_type": "code",
   "execution_count": null,
   "id": "481a3db3-ad70-4abe-916d-fe2858fb1fbc",
   "metadata": {},
   "outputs": [],
   "source": []
  },
  {
   "cell_type": "code",
   "execution_count": null,
   "id": "99c8d927-09ef-4be9-80b9-7c2d38594e9d",
   "metadata": {},
   "outputs": [],
   "source": []
  },
  {
   "cell_type": "markdown",
   "id": "174be286-7fea-4a07-b31b-d88fcfdc15c3",
   "metadata": {},
   "source": []
  },
  {
   "cell_type": "markdown",
   "id": "90f54b3d-a06a-4d91-a707-793ca2394ffe",
   "metadata": {},
   "source": [
    "### References"
   ]
  },
  {
   "cell_type": "code",
   "execution_count": null,
   "id": "cd63cf10-6682-4563-a660-8b74c78a0729",
   "metadata": {},
   "outputs": [],
   "source": []
  },
  {
   "cell_type": "code",
   "execution_count": null,
   "id": "06807511-c25e-452b-959e-ae5fc3a7a26c",
   "metadata": {},
   "outputs": [],
   "source": []
  },
  {
   "cell_type": "code",
   "execution_count": null,
   "id": "5a3bbc69-1df4-45b9-afaf-02b04fb247a1",
   "metadata": {},
   "outputs": [],
   "source": []
  }
 ],
 "metadata": {
  "kernelspec": {
   "display_name": "Python 3",
   "language": "python",
   "name": "python3"
  },
  "language_info": {
   "codemirror_mode": {
    "name": "ipython",
    "version": 3
   },
   "file_extension": ".py",
   "mimetype": "text/x-python",
   "name": "python",
   "nbconvert_exporter": "python",
   "pygments_lexer": "ipython3",
   "version": "3.8.8"
  }
 },
 "nbformat": 4,
 "nbformat_minor": 5
}
