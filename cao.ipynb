{
 "cells": [
  {
   "cell_type": "markdown",
   "id": "b645558f-000a-499a-a83a-f39b74bf58fd",
   "metadata": {},
   "source": [
    "### CAO Points Notebook"
   ]
  },
  {
   "cell_type": "markdown",
   "id": "d8771808-18ca-4cbd-9448-07bced2c33a2",
   "metadata": {},
   "source": [
    "Include a Jupyter notebook called cao.ipynb that contains the following."
   ]
  },
  {
   "cell_type": "markdown",
   "id": "4de54a91-aac9-45e2-97fd-2071369033c8",
   "metadata": {},
   "source": [
    "10% A clear and concise overview of how to load CAO points information from the\n",
    "CAO website into a pandas data frame, pitched as your classmates.\n",
    "***"
   ]
  },
  {
   "cell_type": "markdown",
   "id": "06e91826-543f-4ada-98df-6131be523a01",
   "metadata": {},
   "source": [
    "20% A detailed comparison of CAO points in 2019, 2020, and 2021 using the functionality in pandas.\n",
    "***"
   ]
  },
  {
   "cell_type": "markdown",
   "id": "49e23da2-fa9b-4a41-8bc1-09e8b5ae1c4a",
   "metadata": {},
   "source": [
    "10% Appropriate plots and other visualisations to enhance your notebook for viewers.\n",
    "***"
   ]
  },
  {
   "cell_type": "code",
   "execution_count": 1,
   "id": "21778b0b-d2a4-40d9-8b74-dd68f4e3c698",
   "metadata": {},
   "outputs": [],
   "source": [
    "# Importing required packages:\n",
    "# HTTP Requests\n",
    "import requests as rq\n",
    "\n",
    "# Regular Expressions\n",
    "import re\n",
    "\n",
    "# Dates and times\n",
    "import datetime as dt\n",
    "\n",
    "# Data frames\n",
    "import pandas as pd\n",
    "\n",
    "# For Url downloads\n",
    "import urllib.request as urlrq\n",
    "\n",
    "import numpy as np"
   ]
  },
  {
   "cell_type": "markdown",
   "id": "85db2adc-a3d1-4695-a648-85485965c4fb",
   "metadata": {},
   "source": [
    "# CAO Points for 2021 <br>\n",
    "http://www.cao.ie/index.php?page=points&p=2021\n",
    "***"
   ]
  },
  {
   "cell_type": "code",
   "execution_count": 2,
   "id": "165f4446-390b-4925-bb08-ba537797759d",
   "metadata": {},
   "outputs": [
    {
     "data": {
      "text/plain": [
       "<Response [200]>"
      ]
     },
     "execution_count": 2,
     "metadata": {},
     "output_type": "execute_result"
    }
   ],
   "source": [
    "# Getting data form CAO website\n",
    "resp = rq.get(\"http://www2.cao.ie/points/l8.php\")\n",
    "\n",
    "# Confirming it is ok\n",
    "\n",
    "resp"
   ]
  },
  {
   "cell_type": "markdown",
   "id": "f5294cf2-d6bc-41bd-9eba-e7c9460bde57",
   "metadata": {},
   "source": [
    "### Saving original dataset"
   ]
  },
  {
   "cell_type": "code",
   "execution_count": 3,
   "id": "d97b5a00-871f-4ed9-ab73-d644954c4638",
   "metadata": {},
   "outputs": [],
   "source": [
    "# Getting current date and time\n",
    "now = dt.datetime.now()\n",
    "\n",
    "# Format as a string\n",
    "nowstr = now.strftime(\"%Y%m%d_%H%M%S\")"
   ]
  },
  {
   "cell_type": "code",
   "execution_count": 4,
   "id": "99e07de9-f39b-4897-ba2e-859ea72c64be",
   "metadata": {},
   "outputs": [],
   "source": [
    "# Creating a file path\n",
    "path = 'data/cao2021_' + nowstr + '.html'"
   ]
  },
  {
   "cell_type": "markdown",
   "id": "eebea09e-c58b-46e6-a0e0-3297b0a0b72a",
   "metadata": {},
   "source": [
    "### Using decoding cp1252 that includes fada\n",
    "***"
   ]
  },
  {
   "cell_type": "code",
   "execution_count": 5,
   "id": "2fd968b5-e0be-4278-ba28-cef0e6fbe02a",
   "metadata": {},
   "outputs": [],
   "source": [
    "# To include CAO website encoding screen"
   ]
  },
  {
   "cell_type": "code",
   "execution_count": 6,
   "id": "bd66eb3a-9207-4998-9fe4-07df26081c17",
   "metadata": {},
   "outputs": [
    {
     "data": {
      "text/plain": [
       "'iso-8859-1'"
      ]
     },
     "execution_count": 6,
     "metadata": {},
     "output_type": "execute_result"
    }
   ],
   "source": [
    "# Checking original server encoding\n",
    "original_encoding = resp.encoding\n",
    "\n",
    "resp.encoding = 'cp1252'\n",
    "original_encoding"
   ]
  },
  {
   "cell_type": "code",
   "execution_count": 7,
   "id": "311bcd7b-1656-42eb-9a19-36fecc38025a",
   "metadata": {},
   "outputs": [],
   "source": [
    "# Save original html file\n",
    "with open(path, 'w') as f:\n",
    "    f.write(resp.text)"
   ]
  },
  {
   "cell_type": "code",
   "execution_count": null,
   "id": "1881c2f2-6a1a-462c-bc43-cd115919e66b",
   "metadata": {},
   "outputs": [],
   "source": []
  },
  {
   "cell_type": "code",
   "execution_count": null,
   "id": "481a3db3-ad70-4abe-916d-fe2858fb1fbc",
   "metadata": {},
   "outputs": [],
   "source": []
  },
  {
   "cell_type": "markdown",
   "id": "892176ab-edf3-43f5-bbd5-de9fb67689a2",
   "metadata": {},
   "source": [
    "# CAO Points for 2020 <br>\n",
    "https://www.cao.ie/index.php?page=points&p=2020\n",
    "http://www2.cao.ie/points/CAOPointsCharts2020.xlsx\n",
    "***"
   ]
  },
  {
   "cell_type": "code",
   "execution_count": null,
   "id": "eb0be296-48b7-48b9-9d1d-6ac8a82a73d9",
   "metadata": {},
   "outputs": [],
   "source": []
  },
  {
   "cell_type": "code",
   "execution_count": null,
   "id": "f813a9f5-3d47-4b6e-a4b7-c0e5e111e14d",
   "metadata": {},
   "outputs": [],
   "source": []
  },
  {
   "cell_type": "code",
   "execution_count": null,
   "id": "59e67518-ccbd-42af-9445-a504c75d2652",
   "metadata": {},
   "outputs": [],
   "source": []
  },
  {
   "cell_type": "code",
   "execution_count": null,
   "id": "eb0809b9-bcef-43c4-b254-db6bc8e9ece5",
   "metadata": {},
   "outputs": [],
   "source": []
  },
  {
   "cell_type": "markdown",
   "id": "d0d5d648-170f-4913-8c73-0202289e1434",
   "metadata": {},
   "source": [
    "# CAO Points for 2019 <br>\n",
    "https://www.cao.ie/index.php?page=points&p=2019\n",
    "http://www2.cao.ie/points/lvl8_19.pdf\n",
    "***"
   ]
  },
  {
   "cell_type": "markdown",
   "id": "4fb0936e-2b4f-4724-ae61-4faec50cec78",
   "metadata": {},
   "source": [
    "Importing Camelot and reading PDF, yet only first page is read, stack overflow to the rescue https://stackoverflow.com/questions/56777241/camelot-is-reading-only-the-first-page-of-the-pdf"
   ]
  },
  {
   "cell_type": "code",
   "execution_count": 8,
   "id": "0515df87-7427-40b3-857f-d814fae8e7aa",
   "metadata": {},
   "outputs": [
    {
     "data": {
      "text/plain": [
       "<TableList n=18>"
      ]
     },
     "execution_count": 8,
     "metadata": {},
     "output_type": "execute_result"
    }
   ],
   "source": [
    "import camelot\n",
    "\n",
    "tables = camelot.read_pdf('http://www2.cao.ie/points/lvl8_19.pdf', pages='all')\n",
    "\n",
    "tables"
   ]
  },
  {
   "cell_type": "code",
   "execution_count": 9,
   "id": "80832914-ff3b-4081-b94a-38cfc40d645c",
   "metadata": {},
   "outputs": [],
   "source": [
    "# df.export('data/cao2019_20211214_2150.csv', f='csv')"
   ]
  },
  {
   "cell_type": "code",
   "execution_count": 12,
   "id": "240e2a29-11cb-48c0-b344-f1dd4dca8933",
   "metadata": {
    "tags": []
   },
   "outputs": [
    {
     "data": {
      "text/html": [
       "<div>\n",
       "<style scoped>\n",
       "    .dataframe tbody tr th:only-of-type {\n",
       "        vertical-align: middle;\n",
       "    }\n",
       "\n",
       "    .dataframe tbody tr th {\n",
       "        vertical-align: top;\n",
       "    }\n",
       "\n",
       "    .dataframe thead th {\n",
       "        text-align: right;\n",
       "    }\n",
       "</style>\n",
       "<table border=\"1\" class=\"dataframe\">\n",
       "  <thead>\n",
       "    <tr style=\"text-align: right;\">\n",
       "      <th></th>\n",
       "      <th>0</th>\n",
       "      <th>1</th>\n",
       "      <th>2</th>\n",
       "      <th>3</th>\n",
       "    </tr>\n",
       "  </thead>\n",
       "  <tbody>\n",
       "    <tr>\n",
       "      <th>0</th>\n",
       "      <td>Course Code INSTITUTION and COURSE</td>\n",
       "      <td></td>\n",
       "      <td>EOS</td>\n",
       "      <td>Mid</td>\n",
       "    </tr>\n",
       "    <tr>\n",
       "      <th>1</th>\n",
       "      <td></td>\n",
       "      <td>Athlone Institute of Technology</td>\n",
       "      <td></td>\n",
       "      <td></td>\n",
       "    </tr>\n",
       "    <tr>\n",
       "      <th>2</th>\n",
       "      <td>AL801</td>\n",
       "      <td>Software Design with Virtual Reality and Gaming</td>\n",
       "      <td>304</td>\n",
       "      <td>328</td>\n",
       "    </tr>\n",
       "    <tr>\n",
       "      <th>3</th>\n",
       "      <td>AL802</td>\n",
       "      <td>Software Design with Cloud Computing</td>\n",
       "      <td>301</td>\n",
       "      <td>306</td>\n",
       "    </tr>\n",
       "    <tr>\n",
       "      <th>4</th>\n",
       "      <td>AL803</td>\n",
       "      <td>Software Design with Mobile Apps and Connected...</td>\n",
       "      <td>309</td>\n",
       "      <td>337</td>\n",
       "    </tr>\n",
       "    <tr>\n",
       "      <th>...</th>\n",
       "      <td>...</td>\n",
       "      <td>...</td>\n",
       "      <td>...</td>\n",
       "      <td>...</td>\n",
       "    </tr>\n",
       "    <tr>\n",
       "      <th>37</th>\n",
       "      <td>WD200</td>\n",
       "      <td>Arts (options)</td>\n",
       "      <td>221</td>\n",
       "      <td>296</td>\n",
       "    </tr>\n",
       "    <tr>\n",
       "      <th>38</th>\n",
       "      <td>WD210</td>\n",
       "      <td>Software Systems Development</td>\n",
       "      <td>271</td>\n",
       "      <td>329</td>\n",
       "    </tr>\n",
       "    <tr>\n",
       "      <th>39</th>\n",
       "      <td>WD211</td>\n",
       "      <td>Creative Computing</td>\n",
       "      <td>275</td>\n",
       "      <td>322</td>\n",
       "    </tr>\n",
       "    <tr>\n",
       "      <th>40</th>\n",
       "      <td>WD212</td>\n",
       "      <td>Recreation and Sport Management</td>\n",
       "      <td>274</td>\n",
       "      <td>311</td>\n",
       "    </tr>\n",
       "    <tr>\n",
       "      <th>41</th>\n",
       "      <td>WD230</td>\n",
       "      <td>Mechanical and Manufacturing Engineering</td>\n",
       "      <td>273</td>\n",
       "      <td>348</td>\n",
       "    </tr>\n",
       "  </tbody>\n",
       "</table>\n",
       "<p>966 rows × 4 columns</p>\n",
       "</div>"
      ],
      "text/plain": [
       "                                     0  \\\n",
       "0   Course Code INSTITUTION and COURSE   \n",
       "1                                        \n",
       "2                                AL801   \n",
       "3                                AL802   \n",
       "4                                AL803   \n",
       "..                                 ...   \n",
       "37                               WD200   \n",
       "38                               WD210   \n",
       "39                               WD211   \n",
       "40                               WD212   \n",
       "41                               WD230   \n",
       "\n",
       "                                                    1    2    3  \n",
       "0                                                      EOS  Mid  \n",
       "1                     Athlone Institute of Technology            \n",
       "2     Software Design with Virtual Reality and Gaming  304  328  \n",
       "3                Software Design with Cloud Computing  301  306  \n",
       "4   Software Design with Mobile Apps and Connected...  309  337  \n",
       "..                                                ...  ...  ...  \n",
       "37                                     Arts (options)  221  296  \n",
       "38                       Software Systems Development  271  329  \n",
       "39                                 Creative Computing  275  322  \n",
       "40                    Recreation and Sport Management  274  311  \n",
       "41           Mechanical and Manufacturing Engineering  273  348  \n",
       "\n",
       "[966 rows x 4 columns]"
      ]
     },
     "execution_count": 12,
     "metadata": {},
     "output_type": "execute_result"
    }
   ],
   "source": [
    "# A terrible list, need a loop or something better\n",
    "alltables = [tables[0].df, tables[1].df, tables[2].df, tables[3].df, tables[4].df, tables[5].df, tables[6].df, tables[7].df, tables[8].df, tables[9].df, tables[10].df, tables[11].df, tables[12].df, tables[13].df, tables[14].df, tables[15].df, tables[16].df, tables[17].df,]\n",
    "\n",
    "fulltable = pd.concat(alltables)\n",
    "\n",
    "# alltables = pd.concat([tables[0].df, tables[1].df])\n",
    "fulltable"
   ]
  },
  {
   "cell_type": "code",
   "execution_count": 30,
   "id": "577491fe-280a-46a1-bb96-96d2b30ff897",
   "metadata": {},
   "outputs": [
    {
     "data": {
      "text/plain": [
       "array([ 0,  1,  2,  3,  4,  5,  6,  7,  8,  9, 10, 11, 12, 13, 14, 15, 16,\n",
       "       17])"
      ]
     },
     "execution_count": 30,
     "metadata": {},
     "output_type": "execute_result"
    }
   ],
   "source": [
    "num = np.arange(18)\n",
    "num\n",
    "\n",
    "#for i in range(0, len(num)):\n",
    "#    tablelist.concat(str('tables['i'].df')\n"
   ]
  },
  {
   "cell_type": "code",
   "execution_count": 31,
   "id": "a2dddeb0-2af8-448c-b811-151d26449546",
   "metadata": {},
   "outputs": [],
   "source": [
    "fulltable.to_csv('data/cao2019_20211215_0010.csv')"
   ]
  },
  {
   "cell_type": "markdown",
   "id": "90f54b3d-a06a-4d91-a707-793ca2394ffe",
   "metadata": {},
   "source": [
    "### References"
   ]
  },
  {
   "cell_type": "code",
   "execution_count": null,
   "id": "cd63cf10-6682-4563-a660-8b74c78a0729",
   "metadata": {},
   "outputs": [],
   "source": [
    "# Camelot https://www.youtube.com/watch?v=LoiHI-IB3lY"
   ]
  },
  {
   "cell_type": "code",
   "execution_count": null,
   "id": "06807511-c25e-452b-959e-ae5fc3a7a26c",
   "metadata": {},
   "outputs": [],
   "source": []
  },
  {
   "cell_type": "code",
   "execution_count": null,
   "id": "5a3bbc69-1df4-45b9-afaf-02b04fb247a1",
   "metadata": {},
   "outputs": [],
   "source": []
  }
 ],
 "metadata": {
  "kernelspec": {
   "display_name": "Python 3",
   "language": "python",
   "name": "python3"
  },
  "language_info": {
   "codemirror_mode": {
    "name": "ipython",
    "version": 3
   },
   "file_extension": ".py",
   "mimetype": "text/x-python",
   "name": "python",
   "nbconvert_exporter": "python",
   "pygments_lexer": "ipython3",
   "version": "3.8.8"
  }
 },
 "nbformat": 4,
 "nbformat_minor": 5
}
